{
 "cells": [
  {
   "cell_type": "markdown",
   "id": "8da0889b",
   "metadata": {},
   "source": [
    "## Introduction\n",
    "As I reflect on my progression through Portfolio 4, I find it as a valuable chance to assess my personal development and learning experience. This assessment contains not just data analysis but also decision-making and resolving a complex issue. Within this report, I will discuss the process of solving problems, my progress throughout the unit, and my future interest. "
   ]
  },
  {
   "cell_type": "markdown",
   "id": "c2dd582c",
   "metadata": {},
   "source": [
    "## Progress Since the Start\n",
    "My experience in this course has been characterized by continuous learning and personal development. When I started, I just had a basic understanding of data analysis and machine learning as well as Jupyter notebooks, but as I progressed through the portfolios, my skills improved significantily. In particular, Portfolio 4 served as a stage of enlightenment, requiring me to work on real-world data that I chose and implement machine learning models to address practical issues. Furthermore, even at the beginning part of the portfolio, I encountered the issue which was that I couldn't commit because of the large size of the dataset. I tried to fix this issue and gained several methods such as scaling and using bfg.jar. "
   ]
  },
  {
   "cell_type": "markdown",
   "id": "b534f806",
   "metadata": {},
   "source": [
    "## Dataset Choice and Problem Identification\n",
    "Selecting the right dataset was a critical decision for the Portfolio 4. I chose to work with a Credit Card Fraud Detection dataset due to its practical application in identifying potentially fraudulent transactions. This decision was primarily motivated by the dataset's intended use and its relevance to real-world problems. \n",
    "Identifying the problem to address in this portfolio was a thoughtful process. I aimed to investigate whether fraud could be predicted based on transaction amounts, a challenge with significant implications for financial security. This choice was guided by _the problem's practical importance_ and _its alignmanet with the dataset's purpose_. "
   ]
  },
  {
   "cell_type": "markdown",
   "id": "4ce40c99",
   "metadata": {},
   "source": [
    "## Model Selection\n",
    "For Portfolio 4, I opted for logistic regression models for the classification task. This choice was influenced by the characteristic of the problem, which involved predicting fraud based on transaction amount. At first, I chose KNN model but it was too slow to handle the large dataset. With this reason, I changed the model from KNN to Logistic regression because Logistic regression is a suitable model for binary classification like predicting fraud. The process of model selection taught me the importance of aligning the model with the problem's characteristics. "
   ]
  },
  {
   "cell_type": "markdown",
   "id": "a6b80bb9",
   "metadata": {},
   "source": [
    "## Insights and Results\n",
    "One of the most rewarding aspects of Portfolio 4 was drawing insights from the analysis. I was able to achieve a high level of accuracy and precision in identifying fraudulent transactions. The models exhibited a robust ability to distinguish between positive and negative cases, as evidenced by the ROC AUC of 1.00. This outcome was satisfying to see that the models were capable of detecting fraud with such high accuracy. "
   ]
  },
  {
   "cell_type": "markdown",
   "id": "810e6c3a",
   "metadata": {},
   "source": [
    "## Future Interests\n",
    "The following are some of the aspects I am interested in:\n",
    "\n",
    "1. **Further Model Exploration** : I am eager to explore more advanced machine learning models and deep learning techniques for fraud detection. This can lead me to even more accurate and efficient solutions. \n",
    "2. **Real-World Application**: I am interested in applying the skills and knowledge gained through this portfolio to real-world situations. I would like to work on projects with practical implications in the fields on finance, healthcare, and so on. "
   ]
  },
  {
   "cell_type": "markdown",
   "id": "ad007c4d",
   "metadata": {},
   "source": [
    "## Discussion Points \n",
    "Here are some discussion points based on my Porfolio 4:\n",
    "\n",
    "1. **While the models achieved high accuary, what are the practical implications of this in a real-world scenario?** High accuracy implies that the models are effective at distinguishing between legitimate and fraudulent transactions. In practice, this means that a larger portion of fraudulent transactions can be correctly identified, reducing financial losses for credit card companies and customers.\n",
    "2. **How can we translate model performance into actionable insights and strategies for fraud detection and prevention?** Implement a real-time monitoring system that can instantly evaluate transactions as they occur.\n",
    "3. **Why did I use metrics beyong accuracy, such as precision, recall, F1-score, or ROC AUC?** Precision and recall are often in trade-off. I can increase one ate the expense of the other. Measuring both metrics provides a way to strike a balance that best fits the business requirements. F1-scores, which combines both precision and recall, can be useful for finding the optimal balance point. ROC AUC helps me evaluate the model's ability to distinguish between the positive and negative classes, which is critical in fraud detection. \n",
    "4. **How did these metrics provide a more comprehensive view of model performance?** As I mentioned previously, these metrics ensure that I understand how the model performs across various dimensions. This multifaceted evaluation is crucial for making decisions in applications like fraud detection. "
   ]
  },
  {
   "cell_type": "markdown",
   "id": "fb86da34",
   "metadata": {},
   "source": [
    "In conclusion, Portfolio 4 has been a pivotal learning experience. It has allowed me to explore a real-world problem, apply machine learning models effectively, and draw valuable insights. I am eager to expand my knowledge and use data analysis and machine learning for practical applications. "
   ]
  }
 ],
 "metadata": {
  "kernelspec": {
   "display_name": "Python 3 (ipykernel)",
   "language": "python",
   "name": "python3"
  },
  "language_info": {
   "codemirror_mode": {
    "name": "ipython",
    "version": 3
   },
   "file_extension": ".py",
   "mimetype": "text/x-python",
   "name": "python",
   "nbconvert_exporter": "python",
   "pygments_lexer": "ipython3",
   "version": "3.11.3"
  }
 },
 "nbformat": 4,
 "nbformat_minor": 5
}
